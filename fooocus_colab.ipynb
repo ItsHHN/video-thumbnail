{
  "cells": [
    {
      "cell_type": "markdown",
      "metadata": {
        "id": "view-in-github",
        "colab_type": "text"
      },
      "source": [
        "<a href=\"https://colab.research.google.com/github/ItsHHN/video-thumbnail/blob/main/fooocus_colab.ipynb\" target=\"_parent\"><img src=\"https://colab.research.google.com/assets/colab-badge.svg\" alt=\"Open In Colab\"/></a>"
      ]
    },
    {
      "cell_type": "code",
      "execution_count": 2,
      "metadata": {
        "id": "VjYy0F2gZIPR",
        "outputId": "43430204-c490-4521-de6e-1f8411dcb9b4",
        "colab": {
          "base_uri": "https://localhost:8080/"
        }
      },
      "outputs": [
        {
          "output_type": "stream",
          "name": "stdout",
          "text": [
            "Requirement already satisfied: pygit2==1.15.1 in /usr/local/lib/python3.12/dist-packages (1.15.1)\n",
            "Requirement already satisfied: cffi>=1.16.0 in /usr/local/lib/python3.12/dist-packages (from pygit2==1.15.1) (2.0.0)\n",
            "Requirement already satisfied: pycparser in /usr/local/lib/python3.12/dist-packages (from cffi>=1.16.0->pygit2==1.15.1) (2.23)\n",
            "/content\n",
            "fatal: destination path 'Fooocus' already exists and is not an empty directory.\n",
            "/content/Fooocus\n",
            "Already up-to-date\n",
            "Update succeeded.\n",
            "[System ARGV] ['entry_with_update.py', '--share', '--always-low-vram', '-alwayscpu']\n",
            "Python 3.12.12 (main, Oct 10 2025, 08:52:57) [GCC 11.4.0]\n",
            "Fooocus version: 2.5.5\n",
            "usage: entry_with_update.py [-h] [--listen [IP]] [--port PORT]\n",
            "                            [--disable-header-check [ORIGIN]]\n",
            "                            [--web-upload-size WEB_UPLOAD_SIZE]\n",
            "                            [--hf-mirror HF_MIRROR]\n",
            "                            [--external-working-path PATH [PATH ...]]\n",
            "                            [--output-path OUTPUT_PATH]\n",
            "                            [--temp-path TEMP_PATH] [--cache-path CACHE_PATH]\n",
            "                            [--in-browser] [--disable-in-browser]\n",
            "                            [--gpu-device-id DEVICE_ID]\n",
            "                            [--async-cuda-allocation | --disable-async-cuda-allocation]\n",
            "                            [--disable-attention-upcast]\n",
            "                            [--all-in-fp32 | --all-in-fp16]\n",
            "                            [--unet-in-bf16 | --unet-in-fp16 | --unet-in-fp8-e4m3fn | --unet-in-fp8-e5m2]\n",
            "                            [--vae-in-fp16 | --vae-in-fp32 | --vae-in-bf16]\n",
            "                            [--vae-in-cpu]\n",
            "                            [--clip-in-fp8-e4m3fn | --clip-in-fp8-e5m2 | --clip-in-fp16 | --clip-in-fp32]\n",
            "                            [--directml [DIRECTML_DEVICE]]\n",
            "                            [--disable-ipex-hijack]\n",
            "                            [--preview-option [none,auto,fast,taesd]]\n",
            "                            [--attention-split | --attention-quad | --attention-pytorch]\n",
            "                            [--disable-xformers]\n",
            "                            [--always-gpu | --always-high-vram | --always-normal-vram | --always-low-vram | --always-no-vram | --always-cpu [CPU_NUM_THREADS]]\n",
            "                            [--always-offload-from-vram]\n",
            "                            [--pytorch-deterministic] [--disable-server-log]\n",
            "                            [--debug-mode] [--is-windows-embedded-python]\n",
            "                            [--disable-server-info] [--multi-user] [--share]\n",
            "                            [--preset PRESET] [--disable-preset-selection]\n",
            "                            [--language LANGUAGE]\n",
            "                            [--disable-offload-from-vram] [--theme THEME]\n",
            "                            [--disable-image-log] [--disable-analytics]\n",
            "                            [--disable-metadata] [--disable-preset-download]\n",
            "                            [--disable-enhance-output-sorting]\n",
            "                            [--enable-auto-describe-image]\n",
            "                            [--always-download-new-model]\n",
            "                            [--rebuild-hash-cache [CPU_NUM_THREADS]]\n",
            "entry_with_update.py: error: unrecognized arguments: -alwayscpu\n"
          ]
        }
      ],
      "source": [
        "!pip install pygit2==1.15.1\n",
        "%cd /content\n",
        "!git clone https://github.com/lllyasviel/Fooocus.git\n",
        "%cd /content/Fooocus\n",
        "!python entry_with_update.py --share --always-low-vram -alwayscpu\n"
      ]
    }
  ],
  "metadata": {
    "accelerator": "GPU",
    "colab": {
      "gpuType": "T4",
      "provenance": [],
      "include_colab_link": true
    },
    "kernelspec": {
      "display_name": "Python 3",
      "name": "python3"
    },
    "language_info": {
      "name": "python"
    }
  },
  "nbformat": 4,
  "nbformat_minor": 0
}